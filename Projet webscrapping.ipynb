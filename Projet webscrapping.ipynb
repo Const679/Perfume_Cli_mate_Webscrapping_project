{
 "cells": [
  {
   "cell_type": "code",
   "execution_count": 18,
   "metadata": {},
   "outputs": [],
   "source": [
    "from selenium import webdriver\n",
    "from selenium.webdriver.common.keys import Keys\n",
    "from selenium.webdriver.support.ui import WebDriverWait\n",
    "from selenium.webdriver.common.by import By\n",
    "from msedge.selenium_tools import Edge, EdgeOptions\n",
    "from selenium.webdriver.support import expected_conditions as EC\n",
    "from selenium.webdriver.support.ui import Select\n",
    "import re\n",
    "import time"
   ]
  },
  {
   "cell_type": "code",
   "execution_count": 19,
   "metadata": {},
   "outputs": [],
   "source": [
    "options = EdgeOptions()\n",
    "options.use_chromium = True\n",
    "options.add_experimental_option('excludeSwitches', ['enable-logging'])\n",
    "options.set_capability(\"acceptInsecureCerts\", True)\n",
    "#Try to connect if the edgeriver version is 108\n",
    "options.binary_location =r'C:\\Program Files (x86)\\Microsoft\\Edge\\Application\\msedge.exe'"
   ]
  },
  {
   "cell_type": "code",
   "execution_count": 20,
   "metadata": {},
   "outputs": [],
   "source": [
    "dicParfum={}\n",
    "listeMarque=[]\n",
    "listeIngredient=[]"
   ]
  },
  {
   "cell_type": "code",
   "execution_count": 21,
   "metadata": {},
   "outputs": [
    {
     "name": "stderr",
     "output_type": "stream",
     "text": [
      "<ipython-input-21-47e148e7b33a>:1: DeprecationWarning: Selenium Tools for Microsoft Edge is deprecated. Please upgrade to Selenium 4 which has built-in support for Microsoft Edge (Chromium): https://docs.microsoft.com/en-us/microsoft-edge/webdriver-chromium/#upgrading-from-selenium-3\n",
      "  driver = Edge(executable_path =r\"C:\\Program Files (x86)\\Microsoft\\Edge\\Application\\msedgedriver.exe\", options = options)\n"
     ]
    }
   ],
   "source": [
    "driver = Edge(executable_path =r\"C:\\Program Files (x86)\\Microsoft\\Edge\\Application\\msedgedriver.exe\", options = options)\n",
    "driver.get(\"https://www.sephora.fr/\")\n",
    "cookies=driver.find_element(By.XPATH,'//*[@id=\"footer_tc_privacy_button_2\"]')\n",
    "cookies.click()\n",
    "for i in range (0,10):\n",
    "    div=0\n",
    "    driver.get(\"https://www.sephora.fr/parfum-meilleures-ventes/?srule=Sorting%20Rule%20-%20Best%20Sellers&start=0&sz=24\")\n",
    "    id=str(i+1)\n",
    "    #print(\"top : \"+ id )\n",
    "    try:\n",
    "        pathparfum=\"/html/body/div[2]/div[3]/div[2]/div[3]/div[2]/div[2]/ul/li[\"+id+\"]\"\n",
    "        #//*[@id=\"search-result-items\"]/li[1]/div\n",
    "        Parfum=driver.find_element(By.XPATH, pathparfum)\n",
    "    except :\n",
    "        pathparfum=\"/html/body/div[1]/div[3]/div[2]/div[3]/div[2]/div[2]/ul/li[\"+id+\"]\"\n",
    "        Parfum=driver.find_element(By.XPATH, pathparfum)\n",
    "    if Parfum.get_attribute('class')=='grid-tile':\n",
    "        marque=driver.find_element(By.XPATH,pathparfum+\"/div/div[3]/div/a/span\").get_attribute('innerText')\n",
    "        #print(marque)\n",
    "        listeMarque.append(marque)\n",
    "        Parfum.click()\n",
    "        #nom du parfum      \n",
    "        nomParfum=driver.find_element(By.CLASS_NAME,'product-name.product-name-bold').get_attribute(\"innerText\")\n",
    "        #print(nomParfum)\n",
    "        dicParfum[i]=nomParfum\n",
    "        #liste des ingredients\n",
    "        ingredient=driver.find_element(By.CLASS_NAME,'ingredients-content.tabs-panel').get_attribute('innerText')\n",
    "        #print('Ingredient : '+ ingredient)\n",
    "        listeIngredient.append(ingredient)\n",
    "        #print(\"\\n\")\n",
    "driver.close()\n",
    "        "
   ]
  },
  {
   "cell_type": "markdown",
   "metadata": {},
   "source": [
    "# Gestion des Ingredients"
   ]
  },
  {
   "cell_type": "code",
   "execution_count": 22,
   "metadata": {},
   "outputs": [],
   "source": [
    "phrase=\"Cette liste d'ingrédients peut faire l'objet de modifications, veuillez consulter l'emballage du produit acheté.\"\n",
    "Ingredient=[]\n",
    "for i in listeIngredient:\n",
    "    ouisticram=i.replace(\"\\n\",'')\n",
    "    ouisticram=ouisticram.replace(phrase,'')\n",
    "    ousticram=ouisticram.replace(phrase,'')\n",
    "    if \"INGREDIENTS\" in ouisticram:\n",
    "        champenfeu=ouisticram.split(':')\n",
    "        champenfeu=champenfeu[-1]\n",
    "    else:\n",
    "        champenfeu=ouisticram\n",
    "    if \"●\" in champenfeu :\n",
    "        simiabraz=champenfeu.split(\"●\")\n",
    "    elif \" | \" in champenfeu:\n",
    "        simiabraz=champenfeu.split(\" | \")\n",
    "    elif ' ,' in champenfeu:\n",
    "        simiabraz=champenfeu.split(\" ,\")\n",
    "    elif ',' in champenfeu:\n",
    "        simiabraz=champenfeu.split(\",\")\n",
    "    elif \" • \" in champenfeu:\n",
    "        simiabraz=champenfeu.split(\" • \")\n",
    "    else:\n",
    "        print(simiabraz)\n",
    "    Ingredient.append(simiabraz)\n",
    "    "
   ]
  },
  {
   "cell_type": "code",
   "execution_count": 23,
   "metadata": {},
   "outputs": [],
   "source": [
    "Ingredients=[]\n",
    "for i in Ingredient:\n",
    "    for j in i :\n",
    "        if j.startswith('#'):\n",
    "            ij=j.split(' ')\n",
    "            j=ij[1]\n",
    "        if j.startswith(' '):\n",
    "            j=j[1:]\n",
    "        if j.endswith(' '):\n",
    "            j=j[:-1]\n",
    "        Ingredients.append(j)"
   ]
  },
  {
   "cell_type": "code",
   "execution_count": 24,
   "metadata": {},
   "outputs": [],
   "source": [
    "setIngredient=set(Ingredients)"
   ]
  },
  {
   "cell_type": "code",
   "execution_count": 25,
   "metadata": {},
   "outputs": [],
   "source": [
    "descIng={}\n",
    "Allergene=[]\n",
    "endo=[]"
   ]
  },
  {
   "cell_type": "code",
   "execution_count": 26,
   "metadata": {},
   "outputs": [
    {
     "name": "stderr",
     "output_type": "stream",
     "text": [
      "<timed exec>:1: DeprecationWarning: Selenium Tools for Microsoft Edge is deprecated. Please upgrade to Selenium 4 which has built-in support for Microsoft Edge (Chromium): https://docs.microsoft.com/en-us/microsoft-edge/webdriver-chromium/#upgrading-from-selenium-3\n"
     ]
    },
    {
     "name": "stdout",
     "output_type": "stream",
     "text": [
      "POLYACRYLATE CROSSPOLYMER-6\n",
      "TOCOPHEROL\n",
      "GERANIOL\n",
      "PARFUM (FRAGRANCE)\n",
      "BENZYL BENZOATE\n",
      "METHYL ANTHRANILATE\n",
      "CI 60730 (EXT. VIOLET 2)\n",
      "TRIETHYL CITRATE\n",
      "CI 15985 (YELLOW 6)\n",
      "ETHYLHEXYL METHOXYCINNAMATE\n",
      "BENZYL SALICYLATE\n",
      "FARNESOL\n",
      "AQUA / WATER / EAU\n",
      "HEXYL CINNAMAL\n",
      "DIETHYLAMINO HYDROXYBENZOYL HEXYL BENZOATE\n",
      "ALCOHOL DENAT.\n",
      "IL60-1\n",
      "AQUA (WATER)\n",
      "COUMARIN\n",
      "PENTAERYTHRITYL TETRA-DI-T-BUTYL HYDROXYHYDROCINNAMATE\n",
      "LINALOOL\n",
      "IL95-1\n",
      "EVERNIA PRUNASTRI (OAK MOSS) EXTRACT\n",
      "PARFUM / FRAGRANCE\n",
      "CITRUS AURANTIUM AMARA (BITTER ORANGE) FLOWER WATER\n",
      "HYDROXYCITRONELLAL\n",
      "BENZYL ALCOHOL\n",
      "BUTYL METHOXYDIBENZOYLMETHANE\n",
      "FARNESOLCITRAL\n",
      "ALCOHOL\n",
      "ISOEUGENOL\n",
      "EUGENOL\n",
      "CI 42090 (BLUE 1)\n",
      "BENZYL CINNAMATE\n",
      "CI 17200 (RED 33)\n",
      "CI 17200 / RED 33 (F.I.L. N292437/1).\n",
      "IL47-1\n",
      "TRIS(TETRAMETHYLHYDROXYPIPERIDINOL) CITRATE\n",
      "CITRONELLOL\n",
      "AMMONIUM ACRYLOYLDIMETHYLTAURATE/BEHENETH-25 METHACRYLATE CROSSPOLYMER\n",
      "ETHYLHEXYL SALICYLATE\n",
      "BHT\n",
      "CI 14700 (RED 4)\n",
      "CINNAMYL ALCOHOL\n",
      "LIMONENE\n",
      "CI 19140 (YELLOW 5)\n",
      "T-BUTYL ALCOHOL\n",
      "CITRAL\n",
      "ALPHA-ISOMETHYL IONONE\n",
      "ANISE ALCOHOL\n",
      "Wall time: 8min 28s\n"
     ]
    }
   ],
   "source": [
    "%%time\n",
    "driver = Edge(executable_path =r\"C:\\Program Files (x86)\\Microsoft\\Edge\\Application\\msedgedriver.exe\", options = options)\n",
    "driver.get(\"https://incibeauty.com/ingredients\")\n",
    "cookies=driver.find_element(By.XPATH,\"/html/body/div[6]/div[1]/div/div[2]/button\")\n",
    "cookies.click()\n",
    "for i in setIngredient:\n",
    "    print(i)\n",
    "    driver.get(\"https://incibeauty.com/ingredients\")\n",
    "    search=driver.find_element(By.ID,'searchInci')\n",
    "    search.click()\n",
    "    search.clear()\n",
    "    search.send_keys(i)\n",
    "    count=0\n",
    "    url=False\n",
    "    b=True\n",
    "    while b:\n",
    "        count+=1\n",
    "        search.send_keys(Keys.ENTER)\n",
    "        if driver.current_url!=\"https://incibeauty.com/ingredients\":\n",
    "            b=False\n",
    "            url=True\n",
    "        if count>=10:\n",
    "            b=False\n",
    "    if url :\n",
    "        listeInfo= WebDriverWait(driver, 10).until(EC.visibility_of_element_located((By.XPATH,'/html/body/section[1]/div/div/div/ul')))\n",
    "        if 'Allergène' in listeInfo.get_attribute('innerText'):\n",
    "            Allergene.append(i)\n",
    "        if 'Perturbateur endocrinien' in listeInfo.get_attribute('innerText'):\n",
    "            endo.append(i)\n",
    "        try:\n",
    "            aSavoir=driver.find_element(By.XPATH,'/html/body/section[1]/div/div/div/div[2]/div')\n",
    "            descIng[i]=aSavoir.get_attribute('innerText')\n",
    "        except:\n",
    "            descIng[i]=\"Pas d'information supplémentaire\"\n",
    "\n",
    "driver.close()"
   ]
  },
  {
   "cell_type": "code",
   "execution_count": 27,
   "metadata": {},
   "outputs": [],
   "source": [
    "driver.quit()"
   ]
  },
  {
   "cell_type": "code",
   "execution_count": 28,
   "metadata": {},
   "outputs": [
    {
     "data": {
      "text/plain": [
       "['GERANIOL',\n",
       " 'BENZYL BENZOATE',\n",
       " 'FARNESOL',\n",
       " 'ALCOHOL DENAT.',\n",
       " 'COUMARIN',\n",
       " 'LINALOOL',\n",
       " 'EVERNIA PRUNASTRI (OAK MOSS) EXTRACT',\n",
       " 'CITRUS AURANTIUM AMARA (BITTER ORANGE) FLOWER WATER',\n",
       " 'HYDROXYCITRONELLAL',\n",
       " 'BENZYL ALCOHOL',\n",
       " 'ALCOHOL',\n",
       " 'ISOEUGENOL',\n",
       " 'EUGENOL',\n",
       " 'BENZYL CINNAMATE',\n",
       " 'LIMONENE',\n",
       " 'ALPHA-ISOMETHYL IONONE']"
      ]
     },
     "execution_count": 28,
     "metadata": {},
     "output_type": "execute_result"
    }
   ],
   "source": [
    "Allergene"
   ]
  },
  {
   "cell_type": "code",
   "execution_count": 29,
   "metadata": {},
   "outputs": [
    {
     "data": {
      "text/plain": [
       "{'POLYACRYLATE CROSSPOLYMER-6': \"À SAVOIR\\nLe polysorbate 20 ou encore Tween 20 est tensioactif non ionique et un émulsifiant dérivé de sorbitol à base de fruits et de baies. Il permet de diluer les huiles essentielles ou parfum dans les produits cosmétiques à base d'eau comme les lotions, crèmes, gels.\\nLe polysorbate 20 est produit par éthoxylation. Le nombre 20 indique le nombre moyen de moles d'oxyde d'éthylène ayant réagi par mole de sorbitol.\",\n",
       " 'GERANIOL': \"À SAVOIR\\nLe Géraniol aussi nommé rhodinol, est un alcool monoterpénique qui fait partie des 24 allergènes réglementés par l'Europe. On le retrouve présent dans les huiles essentielles de Géranium, de citronnelle mais aussi dans l'huile de rose et de Palmarosa. Il est utilisé en parfumerie pour son odeur de rose.\",\n",
       " 'PARFUM (FRAGRANCE)': \"À SAVOIR\\nDerrière ce terme de parfum, se cachent malheureusement de nombreuses molécules odorantes potentiellement irritantes voire allergisantes. Difficile de s'y retrouver lorsque que l'on devient allergique à un produit et que l'information n'est pas plus détaillée que cela. Néanmoins, pour nous aider, l'Europe a réglementé 24 molécules qui, lorsqu'elles sont utilisées au delà d'une certaine concentration, doivent être mentionnées dans la liste INCI (en général à la fin), bien que faisant partie elles-mêmes du parfum d'un produit. C'est le cas par exemple du Limonène, du linalol...\",\n",
       " 'BENZYL BENZOATE': \"À SAVOIR\\nL'alcool benzylique fait partie des 24 allergènes réglementés par l'Europe. Il est employé la plupart du temps en tant que conservateur. On le retrouve naturellement présent dans de nombreuses plantes et fruits comme le Jasmin, l'ail et l'Ylang-Ylang, ou encore l'abricot, l'amande, la pomme et le cassis ... L'alcool Benzylique est autorisé en Bio.\",\n",
       " 'METHYL ANTHRANILATE': 'À SAVOIR\\nLe diméthicone nommé aussi PDMS est un silicone qui n\\'est soumis à aucune restriction européenne. C\\'est aussi le silicone le plus utilisé dans les produits cosmétiques. Son rôle est de produire un film de surface autour du cheveu et sur la peau, pour les protéger ensuite (effet occlusif, avec ce que cela peut impliquer). Il apporte aussi de la douceur aux produits et rend agréable l\\'utilisation de crèmes et de shampoings. C\\'est un peu \"le couteau Suisse du chimiste\" : on l\\'utilise un peu à toutes les sauces, pour rendre les produits plus brillants, plus agréables et donc plus vendeurs, ou encore pour venir compenser l\\'effet desséchant de certains ingrédients comme les tensioactifs.\\n\\nCe composant inerte ne pose aucun problème pour la santé humaine, on peut juste se demander si son effet n\\'est pas uniquement marketing et artificiel. C\\'est sur l\\'aspect écologique que l\\'ingrédient peut avoir un impact très négatif puisqu\\'il est très peu biodégradable.',\n",
       " 'CI 60730 (EXT. VIOLET 2)': 'À SAVOIR\\nL\\'acide citrique est un des principaux actifs du citron. Il est souvent utilisé pour équilibrer le pH (trop basique) des produits cosmétiques. Il est aussi présent dans certains produits de bain (bombes de bain, galets de bain ou \"poudres magiques\") en raison de ses propriétés effervescentes.',\n",
       " 'TRIETHYL CITRATE': 'À SAVOIR\\nL\\'acide citrique est un des principaux actifs du citron. Il est souvent utilisé pour équilibrer le pH (trop basique) des produits cosmétiques. Il est aussi présent dans certains produits de bain (bombes de bain, galets de bain ou \"poudres magiques\") en raison de ses propriétés effervescentes.',\n",
       " 'CI 15985 (YELLOW 6)': 'À SAVOIR\\nL\\'acide citrique est un des principaux actifs du citron. Il est souvent utilisé pour équilibrer le pH (trop basique) des produits cosmétiques. Il est aussi présent dans certains produits de bain (bombes de bain, galets de bain ou \"poudres magiques\") en raison de ses propriétés effervescentes.',\n",
       " 'ETHYLHEXYL METHOXYCINNAMATE': \"À SAVOIR\\nL'Ethylhexylglycerin est fabriqué à partir de glycérine, il est utilisé en cosmétique en tant qu'agent humectant émollient, il améliore la sensation de la peau des formulations cosmétiques. Il est aussi employé dans les déodorants en tant qu'actif, il inhibe la croissance et la multiplication des bactéries à l'origine des odeurs, tout en n'affectant pas la flore cutanée. Bien qu'il soit interdit en bio, en raison de son processus de fabrication, il ne pause toutefois pas de soucis particulier.\",\n",
       " 'BENZYL SALICYLATE': \"À SAVOIR\\nLe Benzoate de sodium est utilisé en tant que conservateur antifongique dans les produits cosmétiques et dans l'alimentaire sous la dénomination E211. Il est donc très efficace contre les champignons, levures et bactéries. Il est fabriqué assez facilement avec de la soude, de l'eau et de l'acide benzoïque. On le trouve naturellement dans certains fruits comme les prunes, les pruneaux ou encore les pommes. Il est autorisé en bio.\",\n",
       " 'FARNESOL': \"À SAVOIR\\nLe farnésol est une molécule odorante faisant partie de la liste des 24 allergènes réglementés par l'Europe. Il est présent dans de nombreuses huiles essentielles comme celles de fleurs de tilleul ou d'acacia. Son nom proviendrait d'ailleurs d'une variété de cet arbre : l'Acacia farnesiana.\",\n",
       " 'AQUA / WATER / EAU': \"À SAVOIR\\nL'eau est l'ingrédient le plus utilisé en cosmétique : 83% des produits en contiennent (pourcentage établi à partir de 50 000 produits de l'App Inci Beauty). L'eau étant d'origine minérale, elle ne pourra jamais être certifiée Bio. C'est la raison pour laquelle les labels Bio, pour certifier les produits, autorisent des minimums d'ingrédients biologiques assez bas (10% pour Ecocert) sur le total d'une formule, en prenant en compte que la présence d'eau non Bio est indispensable et souvent majoritaire dans de nombreux cas.\",\n",
       " 'HEXYL CINNAMAL': 'À SAVOIR\\nLe phenoxyethanol est un conservateur synthétique connu sous l\\'acronyme de EGPhE, très utilisé en cosmétique et de plus en plus controversé. Depuis 2012, l\\'ANSM (Agence nationale de sécurité du médicament et des produits de santé) recommande que ce conservateur ne soit pas utilisé dans les produits cosmétiques destinés au siège des bébés et que sa teneur maximale soit fixée à 0,4% pour les autres produits destinés aux enfants de moins de 3 ans. Elle dénonce également sa toxicité hépatique, ses effets potentiellement néfastes sur la reproduction ainsi que bon nombre d\\'autres désagréments : les conclusions du rapport de l\\'ANSM de 2012 sont alarmants.\\nDans son avis de mai 2018, le Comité scientifique spécialisé temporaire (CSST) chargé de la réévaluation du phénoxyéthanol au niveau de l\\'Europe, a quant à lui conclu : \"La recommandation par l\\'Ansm de non-utilisation du phénoxyéthanol dans les produits cosmétiques destinés au siège doit être maintenue. Il est souhaitable de l\\'élargir aux lingettes qui sont très habituellement utilisées aussi pour nettoyer le siège des jeunes enfants. Dans tous les autres produits cosmétiques destinés aux enfants de 3 ans ou moins, la concentration maximale de phénoxyéthanol pourrait rester de 1 %.\" Le CSST suivrait donc l\\'ANSM pour les lingettes mais pas pour la concentration. En tout cas, réglementairement, le phenoxyethanol est toujours autorisé dans les lingettes bébés !!!\\n\\nLe phenoxyethanol est produit par éthoxylation (un procédé chimique très polluant) en faisant réagir du phénol et de l\\'oxyde d\\'éthylène à une température et une pression élevées. Notez toutefois que le phenoxyethanol est présent naturellement dans le thé vert, mais ce n\\'est pas cette version du composé qui est utilisé en cosmétique. En raison de son procédé de fabrication, le Phenoxyethanol est interdit en Bio.',\n",
       " 'DIETHYLAMINO HYDROXYBENZOYL HEXYL BENZOATE': \"Pas d'information supplémentaire\",\n",
       " 'ALCOHOL DENAT.': \"À SAVOIR\\nLe Linalol est un composé aromatique classé parmi les 24 allergènes réglementés par l'Europe. Il est présent à l'état naturel dans les huiles essentielles de thym, de lavande, de lavandin, de pin sylvestre ou de menthe poivrée... On le retrouve aussi dans de nombreux extraits (citron, orange, verveine...).\",\n",
       " 'AQUA (WATER)': \"À SAVOIR\\nL'eau est l'ingrédient le plus utilisé en cosmétique : 83% des produits en contiennent (pourcentage établi à partir de 50 000 produits de l'App Inci Beauty). L'eau étant d'origine minérale, elle ne pourra jamais être certifiée Bio. C'est la raison pour laquelle les labels Bio, pour certifier les produits, autorisent des minimums d'ingrédients biologiques assez bas (10% pour Ecocert) sur le total d'une formule, en prenant en compte que la présence d'eau non Bio est indispensable et souvent majoritaire dans de nombreux cas.\",\n",
       " 'COUMARIN': 'À SAVOIR\\nLe coumarin est une substance aromatique qui fait partie de 24 allergènes réglementés par l\\'Europe. Son nom provient de \"cumaru\" qui est le nom de l\\'arbre de Tonka (dans une langue amazonienne). En effet, ses fèves contiennent de 1 à 3% de coumarine. C\\'est W.H. Perkin en 1868 qui le premier a réussi à synthétiser le composé (réaction de Perkin). On le trouve également dans le miel, le thé vert ou la cannelle. Ses senteurs rappellent des odeurs de foin fraîchement coupé avec toutefois de nombreuses notes et nuances (noisette, amande, vanille ...).',\n",
       " 'PENTAERYTHRITYL TETRA-DI-T-BUTYL HYDROXYHYDROCINNAMATE': \"À SAVOIR\\nCet ingrédient est utilisé en tant qu'antioxydant synthétique dans les cosmétiques.\\nLe groupe d'expert du CIR a conclu en 2014 que la substance était sûre et n'était pas un sensibilisateur.\",\n",
       " 'LINALOOL': \"À SAVOIR\\nLe Linalol est un composé aromatique classé parmi les 24 allergènes réglementés par l'Europe. Il est présent à l'état naturel dans les huiles essentielles de thym, de lavande, de lavandin, de pin sylvestre ou de menthe poivrée... On le retrouve aussi dans de nombreux extraits (citron, orange, verveine...).\",\n",
       " 'EVERNIA PRUNASTRI (OAK MOSS) EXTRACT': 'À SAVOIR\\nCette substance est un lichen qui prolifère sur les écorces des arbres et principalement sur les chênes. En cosmétique, la \"mousse de Chêne\" est notamment utilisée dans le \"Chypre\", une base pour les parfums. Elle fait partie des 24 allergènes réglementés par l\\'Europe.',\n",
       " 'PARFUM / FRAGRANCE': \"À SAVOIR\\nDerrière ce terme de parfum, se cachent malheureusement de nombreuses molécules odorantes potentiellement irritantes voire allergisantes. Difficile de s'y retrouver lorsque que l'on devient allergique à un produit et que l'information n'est pas plus détaillée que cela. Néanmoins, pour nous aider, l'Europe a réglementé 24 molécules qui, lorsqu'elles sont utilisées au delà d'une certaine concentration, doivent être mentionnées dans la liste INCI (en général à la fin), bien que faisant partie elles-mêmes du parfum d'un produit. C'est le cas par exemple du Limonène, du linalol...\",\n",
       " 'CITRUS AURANTIUM AMARA (BITTER ORANGE) FLOWER WATER': \"Pas d'information supplémentaire\",\n",
       " 'HYDROXYCITRONELLAL': \"À SAVOIR\\nCe composé aromatique chimique fait partie de la liste des 24 allergènes réglementés par l'Europe. Il est utilisé pour ses senteurs de muguet et de lilas.\",\n",
       " 'BENZYL ALCOHOL': \"À SAVOIR\\nL'alcool benzylique fait partie des 24 allergènes réglementés par l'Europe. Il est employé la plupart du temps en tant que conservateur. On le retrouve naturellement présent dans de nombreuses plantes et fruits comme le Jasmin, l'ail et l'Ylang-Ylang, ou encore l'abricot, l'amande, la pomme et le cassis ... L'alcool Benzylique est autorisé en Bio.\",\n",
       " 'BUTYL METHOXYDIBENZOYLMETHANE': \"À SAVOIR\\nLe Butylène Glycol est un composé chimique dérivé de pétrole, souvent utilisé en tant qu'humectant dans les soins de la peau. Il empêche le produit de sécher et rend la formulation plus résistante à l'humidité. Chez les individus sensibles, le butylène glycol peut être irritant pour la peau, les yeux et les voies nasales, toutefois il est considéré comme étant le moins irritant de tous les glycols. Il peut être autorisé en Bio, lorsqu'il est biosourcé et obtenu par fermentation à partir de sucre.\",\n",
       " 'FARNESOLCITRAL': \"À SAVOIR\\nLe Sodium Laureth sulfate (SLES) est un tensioactif anionique utilisé en cosmétique pour ses propriétés détergentes. On le retrouve donc très présent dans les gels douches et les shampoings. Il est produit à partir du Sodium Lauryl Sulfate (SLS) par éthoxylation, une transformation chimique très polluante, c'est la raison pour laquelle il est interdit en Bio. Le sodium Laureth Sulfate est réputé moins irritant que le Sodium Lauryl Sulfate bien que ce dernier soit plus naturel et autorisé en Bio, c'est la transformation chimique qui a permis de l'adoucir et d'augmenter son pouvoir moussant.\\n\\nCet ingrédient est classé écotoxique selon REACH (Aquatic Chronic 3).\",\n",
       " 'ALCOHOL': \"À SAVOIR\\nLe Linalol est un composé aromatique classé parmi les 24 allergènes réglementés par l'Europe. Il est présent à l'état naturel dans les huiles essentielles de thym, de lavande, de lavandin, de pin sylvestre ou de menthe poivrée... On le retrouve aussi dans de nombreux extraits (citron, orange, verveine...).\",\n",
       " 'ISOEUGENOL': \"À SAVOIR\\nL'Isoeugenol est un composé aromatique qui fait partie des 24 allergènes réglementés par l'Europe. Il est présent naturellement dans l'huile essentielle d'Ylang-ylang, de clou de girofle ou encore de cannelle. Son arôme est à la fois sucré et épicé.\",\n",
       " 'EUGENOL': 'À SAVOIR\\nL\\'Eugénol est un composé aromatique phénolique présent naturellement notamment dans le clou de girofle. Il sert à la fabrication de la vanilline et est utilisé dans les cosmétiques en tant qu\\'aromatisant. Il est employé en dentisterie en tant qu\\'analgésique, est utilisé dans les ciments chirurgicaux et certaines pâtes dentaires. Il est aussi doté de pouvoirs antiseptiques, aux Etat-Unis par exemple, on s\\'en sert de pesticides, classé dans la liste des \"pesticides à risque minimum\". Il fait partie des 24 allergènes réglementés par l\\'Europe.',\n",
       " 'CI 42090 (BLUE 1)': 'À SAVOIR\\nL\\'acide citrique est un des principaux actifs du citron. Il est souvent utilisé pour équilibrer le pH (trop basique) des produits cosmétiques. Il est aussi présent dans certains produits de bain (bombes de bain, galets de bain ou \"poudres magiques\") en raison de ses propriétés effervescentes.',\n",
       " 'BENZYL CINNAMATE': \"À SAVOIR\\nL'alcool benzylique fait partie des 24 allergènes réglementés par l'Europe. Il est employé la plupart du temps en tant que conservateur. On le retrouve naturellement présent dans de nombreuses plantes et fruits comme le Jasmin, l'ail et l'Ylang-Ylang, ou encore l'abricot, l'amande, la pomme et le cassis ... L'alcool Benzylique est autorisé en Bio.\",\n",
       " 'CI 17200 (RED 33)': 'À SAVOIR\\nLe dioxyde de titane est un minéral très abondant sur terre : c\\'est d\\'ailleurs le 9ème élément chimique le plus abondant de la croûte terrestre. Il peut être employé en cosmétique en tant que Filtre UV ou en tant que colorant blanc. Lorsque c\\'est un filtre UV, il peut être réduit sous forme de nanoparticules : le CSSC a approuvé l\\'utilisation du dioxyde de titane à l\\'état de nanoparticules dans les crèmes solaires dès 2014, dans des concentrations inférieures à 25%. Le règlement CE 2016/1143 de juillet 2016 a libéré l\\'utilisation de dioxyde de Titane sous cette forme dans les cosmétiques. Le Dioxyde de titane réduit à la taille de nanoparticules est autorisé en Bio, et permet de supprimer l\\'effet blanchâtre disgracieux provoqué par ce filtre minéral lorsqu\\'il est utilisé dans son état micrométrique, c\\'est à dire dans sa taille originale. Sachez néanmoins que le fabricant a l\\'obligation de mentionner à côté du nom de l\\'ingrédient la mention (NANO) ou [NANO] dans la liste INCI, lorsque c\\'est le cas.\\n\\nEn 2006, le Centre International de Recherche sur le Cancer (CIRC) a classé le dioxyde de titane TiO2 dans le groupe des substances \"cancérogènes possibles chez l\\'homme\" (groupe 2B) : lorsqu\\'il est inhalé quelque soit la taille de la particule Nano ou non. En 2016, l\\'ANSES a soumis à l\\'ECHA (Agence européenne des produits chimiques) une proposition de classification du dioxyde de titane en tant que substance cancérogène par inhalation (réévaluation en catégorie 1B).\\n\\n\\nVous l\\'avez compris, le cas du Dioxide de Titane, seul filtre filtre UV autorisé en Bio avec l\\'oxyde de Zinc est très complexe. Néanmoins, nous notons qu\\'il pose principalement des questionnements et controverses lorsqu\\'il est inhalé/avalé et/ou est employé à l\\'état de nanoparticules.',\n",
       " 'TRIS(TETRAMETHYLHYDROXYPIPERIDINOL) CITRATE': \"Pas d'information supplémentaire\",\n",
       " 'CITRONELLOL': 'À SAVOIR\\nL\\'acide citrique est un des principaux actifs du citron. Il est souvent utilisé pour équilibrer le pH (trop basique) des produits cosmétiques. Il est aussi présent dans certains produits de bain (bombes de bain, galets de bain ou \"poudres magiques\") en raison de ses propriétés effervescentes.',\n",
       " 'AMMONIUM ACRYLOYLDIMETHYLTAURATE/BEHENETH-25 METHACRYLATE CROSSPOLYMER': \"Pas d'information supplémentaire\",\n",
       " 'ETHYLHEXYL SALICYLATE': \"À SAVOIR\\nL'Ethylhexylglycerin est fabriqué à partir de glycérine, il est utilisé en cosmétique en tant qu'agent humectant émollient, il améliore la sensation de la peau des formulations cosmétiques. Il est aussi employé dans les déodorants en tant qu'actif, il inhibe la croissance et la multiplication des bactéries à l'origine des odeurs, tout en n'affectant pas la flore cutanée. Bien qu'il soit interdit en bio, en raison de son processus de fabrication, il ne pause toutefois pas de soucis particulier.\",\n",
       " 'BHT': 'À SAVOIR\\nLe BHT ou Butylhydroxytoluène est un phénol qui se présente sous la forme de cristaux blanc jaunâtre. Il est employé pour ses propriétés antioxydantes en cosmétique.\\nLe CIRC (Centre international de recherche sur le cancer) classe le BHT parmi les substances dont l\\'innocuité n\\'a pas pu être établie, l\\'ARTAC (Association française pour la Recherche Thérapeutique Anti-Cancéreuse), le classe elle, parmi les substances \"probablement cancérigènes\".\\n\\n\\nLe substance est suspectée d\\'être un perturbateur endocrinien pouvant déstabiliser les hormones de reproduction chez l\\'homme et la femme. La molécule est aussi réputée sensibilisante, pouvant être source d\\'allergies.\\n\\nDans la mesure où il est possible en cosmétique de faire autrement, selon le principe de précaution, nous classons cette molécule en rouge sur INCI Beauty.',\n",
       " 'CI 14700 (RED 4)': 'À SAVOIR\\nLe dioxyde de titane est un minéral très abondant sur terre : c\\'est d\\'ailleurs le 9ème élément chimique le plus abondant de la croûte terrestre. Il peut être employé en cosmétique en tant que Filtre UV ou en tant que colorant blanc. Lorsque c\\'est un filtre UV, il peut être réduit sous forme de nanoparticules : le CSSC a approuvé l\\'utilisation du dioxyde de titane à l\\'état de nanoparticules dans les crèmes solaires dès 2014, dans des concentrations inférieures à 25%. Le règlement CE 2016/1143 de juillet 2016 a libéré l\\'utilisation de dioxyde de Titane sous cette forme dans les cosmétiques. Le Dioxyde de titane réduit à la taille de nanoparticules est autorisé en Bio, et permet de supprimer l\\'effet blanchâtre disgracieux provoqué par ce filtre minéral lorsqu\\'il est utilisé dans son état micrométrique, c\\'est à dire dans sa taille originale. Sachez néanmoins que le fabricant a l\\'obligation de mentionner à côté du nom de l\\'ingrédient la mention (NANO) ou [NANO] dans la liste INCI, lorsque c\\'est le cas.\\n\\nEn 2006, le Centre International de Recherche sur le Cancer (CIRC) a classé le dioxyde de titane TiO2 dans le groupe des substances \"cancérogènes possibles chez l\\'homme\" (groupe 2B) : lorsqu\\'il est inhalé quelque soit la taille de la particule Nano ou non. En 2016, l\\'ANSES a soumis à l\\'ECHA (Agence européenne des produits chimiques) une proposition de classification du dioxyde de titane en tant que substance cancérogène par inhalation (réévaluation en catégorie 1B).\\n\\n\\nVous l\\'avez compris, le cas du Dioxide de Titane, seul filtre filtre UV autorisé en Bio avec l\\'oxyde de Zinc est très complexe. Néanmoins, nous notons qu\\'il pose principalement des questionnements et controverses lorsqu\\'il est inhalé/avalé et/ou est employé à l\\'état de nanoparticules.',\n",
       " 'CINNAMYL ALCOHOL': 'À SAVOIR\\nL\\'acide citrique est un des principaux actifs du citron. Il est souvent utilisé pour équilibrer le pH (trop basique) des produits cosmétiques. Il est aussi présent dans certains produits de bain (bombes de bain, galets de bain ou \"poudres magiques\") en raison de ses propriétés effervescentes.',\n",
       " 'LIMONENE': \"À SAVOIR\\nLe limonène fait partie des 24 allergènes réglementés en Europe. Il tient son nom du citron dans lequel il est présent en quantité importante. En cosmétique, il est utilisé pour son parfum.\\nIl existe sous deux formes différentes :\\n- le d-limonene est présent dans de nombreuses plantes, fruits et légumes. On le retrouve aussi dans la peau des agrumes, les cornichons, le céleri ou encore dans plusieurs huiles essentielles.\\n- l'autre forme isométrique, le l-limonène, est présent principalement dans les huiles de pin, la térébenthine et les huiles de menthe.\",\n",
       " 'CI 19140 (YELLOW 5)': 'À SAVOIR\\nL\\'acide citrique est un des principaux actifs du citron. Il est souvent utilisé pour équilibrer le pH (trop basique) des produits cosmétiques. Il est aussi présent dans certains produits de bain (bombes de bain, galets de bain ou \"poudres magiques\") en raison de ses propriétés effervescentes.',\n",
       " 'T-BUTYL ALCOHOL': \"À SAVOIR\\nCet ingrédient est utilisé en tant qu'antioxydant synthétique dans les cosmétiques.\\nLe groupe d'expert du CIR a conclu en 2014 que la substance était sûre et n'était pas un sensibilisateur.\",\n",
       " 'CITRAL': 'À SAVOIR\\nL\\'acide citrique est un des principaux actifs du citron. Il est souvent utilisé pour équilibrer le pH (trop basique) des produits cosmétiques. Il est aussi présent dans certains produits de bain (bombes de bain, galets de bain ou \"poudres magiques\") en raison de ses propriétés effervescentes.',\n",
       " 'ALPHA-ISOMETHYL IONONE': \"À SAVOIR\\nLe Linalol est un composé aromatique classé parmi les 24 allergènes réglementés par l'Europe. Il est présent à l'état naturel dans les huiles essentielles de thym, de lavande, de lavandin, de pin sylvestre ou de menthe poivrée... On le retrouve aussi dans de nombreux extraits (citron, orange, verveine...).\",\n",
       " 'ANISE ALCOHOL': 'À SAVOIR\\nLe phenoxyethanol est un conservateur synthétique connu sous l\\'acronyme de EGPhE, très utilisé en cosmétique et de plus en plus controversé. Depuis 2012, l\\'ANSM (Agence nationale de sécurité du médicament et des produits de santé) recommande que ce conservateur ne soit pas utilisé dans les produits cosmétiques destinés au siège des bébés et que sa teneur maximale soit fixée à 0,4% pour les autres produits destinés aux enfants de moins de 3 ans. Elle dénonce également sa toxicité hépatique, ses effets potentiellement néfastes sur la reproduction ainsi que bon nombre d\\'autres désagréments : les conclusions du rapport de l\\'ANSM de 2012 sont alarmants.\\nDans son avis de mai 2018, le Comité scientifique spécialisé temporaire (CSST) chargé de la réévaluation du phénoxyéthanol au niveau de l\\'Europe, a quant à lui conclu : \"La recommandation par l\\'Ansm de non-utilisation du phénoxyéthanol dans les produits cosmétiques destinés au siège doit être maintenue. Il est souhaitable de l\\'élargir aux lingettes qui sont très habituellement utilisées aussi pour nettoyer le siège des jeunes enfants. Dans tous les autres produits cosmétiques destinés aux enfants de 3 ans ou moins, la concentration maximale de phénoxyéthanol pourrait rester de 1 %.\" Le CSST suivrait donc l\\'ANSM pour les lingettes mais pas pour la concentration. En tout cas, réglementairement, le phenoxyethanol est toujours autorisé dans les lingettes bébés !!!\\n\\nLe phenoxyethanol est produit par éthoxylation (un procédé chimique très polluant) en faisant réagir du phénol et de l\\'oxyde d\\'éthylène à une température et une pression élevées. Notez toutefois que le phenoxyethanol est présent naturellement dans le thé vert, mais ce n\\'est pas cette version du composé qui est utilisé en cosmétique. En raison de son procédé de fabrication, le Phenoxyethanol est interdit en Bio.'}"
      ]
     },
     "execution_count": 29,
     "metadata": {},
     "output_type": "execute_result"
    }
   ],
   "source": [
    "descIng"
   ]
  },
  {
   "cell_type": "markdown",
   "metadata": {},
   "source": [
    "# Gestion des marques"
   ]
  },
  {
   "cell_type": "code",
   "execution_count": 30,
   "metadata": {},
   "outputs": [
    {
     "data": {
      "text/plain": [
       "{'GIVENCHY ': 'Sans engagement',\n",
       " 'DIOR ': 'Sans engagement',\n",
       " 'CHANEL ': 'Sans engagement',\n",
       " 'PACO RABANNE ': 'Sans engagement',\n",
       " 'PRADA ': 'Sans engagement'}"
      ]
     },
     "execution_count": 30,
     "metadata": {},
     "output_type": "execute_result"
    }
   ],
   "source": [
    "marqueEco={listeMarque[i]+' ': 'Sans engagement' for i in range(len(listeMarque))}\n",
    "marqueEco"
   ]
  },
  {
   "cell_type": "code",
   "execution_count": 35,
   "metadata": {},
   "outputs": [
    {
     "name": "stderr",
     "output_type": "stream",
     "text": [
      "<ipython-input-35-b583628f7c0b>:1: DeprecationWarning: Selenium Tools for Microsoft Edge is deprecated. Please upgrade to Selenium 4 which has built-in support for Microsoft Edge (Chromium): https://docs.microsoft.com/en-us/microsoft-edge/webdriver-chromium/#upgrading-from-selenium-3\n",
      "  driver = Edge(executable_path =r\"C:\\Program Files (x86)\\Microsoft\\Edge\\Application\\msedgedriver.exe\", options = options)\n"
     ]
    },
    {
     "ename": "AttributeError",
     "evalue": "'WebElement' object has no attribute 'isDisplayed'",
     "output_type": "error",
     "traceback": [
      "\u001b[1;31m---------------------------------------------------------------------------\u001b[0m",
      "\u001b[1;31mAttributeError\u001b[0m                            Traceback (most recent call last)",
      "\u001b[1;32m<ipython-input-35-b583628f7c0b>\u001b[0m in \u001b[0;36m<module>\u001b[1;34m\u001b[0m\n\u001b[0;32m     15\u001b[0m                 \u001b[0mcount\u001b[0m\u001b[1;33m+=\u001b[0m\u001b[1;36m1\u001b[0m\u001b[1;33m\u001b[0m\u001b[1;33m\u001b[0m\u001b[0m\n\u001b[0;32m     16\u001b[0m                 \u001b[0mdriver\u001b[0m\u001b[1;33m.\u001b[0m\u001b[0mfind_element\u001b[0m\u001b[1;33m(\u001b[0m\u001b[0mBy\u001b[0m\u001b[1;33m.\u001b[0m\u001b[0mXPATH\u001b[0m\u001b[1;33m,\u001b[0m\u001b[1;34m\"/html/body/main/div/div[3]/div[2]/div/div/div/div[2]/div[2]/div[\"\u001b[0m\u001b[1;33m+\u001b[0m\u001b[0mstr\u001b[0m\u001b[1;33m(\u001b[0m\u001b[0mids\u001b[0m\u001b[1;33m)\u001b[0m\u001b[1;33m+\u001b[0m\u001b[1;34m\"]/div[2]/label\"\u001b[0m\u001b[1;33m)\u001b[0m\u001b[1;33m.\u001b[0m\u001b[0mclick\u001b[0m\u001b[1;33m(\u001b[0m\u001b[1;33m)\u001b[0m\u001b[1;33m\u001b[0m\u001b[1;33m\u001b[0m\u001b[0m\n\u001b[1;32m---> 17\u001b[1;33m                 \u001b[1;32mif\u001b[0m \u001b[0mdriver\u001b[0m\u001b[1;33m.\u001b[0m\u001b[0mfind_element\u001b[0m\u001b[1;33m(\u001b[0m\u001b[0mBy\u001b[0m\u001b[1;33m.\u001b[0m\u001b[0mXPATH\u001b[0m\u001b[1;33m,\u001b[0m\u001b[1;34m\"/html/body/main/div/div[3]/div[2]/div/div/div/div[2]/div[2]/div[\"\u001b[0m\u001b[1;33m+\u001b[0m\u001b[0mstr\u001b[0m\u001b[1;33m(\u001b[0m\u001b[0mids\u001b[0m\u001b[1;33m)\u001b[0m\u001b[1;33m+\u001b[0m\u001b[1;34m\"]/div[2]/div/div[1]/div[4]\"\u001b[0m\u001b[1;33m)\u001b[0m\u001b[1;33m.\u001b[0m\u001b[0misDisplayed\u001b[0m\u001b[1;33m(\u001b[0m\u001b[1;33m)\u001b[0m\u001b[1;33m:\u001b[0m\u001b[1;33m\u001b[0m\u001b[1;33m\u001b[0m\u001b[0m\n\u001b[0m\u001b[0;32m     18\u001b[0m                     \u001b[0mb\u001b[0m\u001b[1;33m=\u001b[0m\u001b[1;32mFalse\u001b[0m\u001b[1;33m\u001b[0m\u001b[1;33m\u001b[0m\u001b[0m\n\u001b[0;32m     19\u001b[0m                 \u001b[1;32mif\u001b[0m \u001b[0mcount\u001b[0m\u001b[1;33m>=\u001b[0m\u001b[1;36m10\u001b[0m\u001b[1;33m:\u001b[0m\u001b[1;33m\u001b[0m\u001b[1;33m\u001b[0m\u001b[0m\n",
      "\u001b[1;31mAttributeError\u001b[0m: 'WebElement' object has no attribute 'isDisplayed'"
     ]
    }
   ],
   "source": [
    "driver = Edge(executable_path =r\"C:\\Program Files (x86)\\Microsoft\\Edge\\Application\\msedgedriver.exe\", options = options)\n",
    "driver.get(\"https://sciencebasedtargets.org/companies-taking-action#dashboard\")\n",
    "time.sleep(5)\n",
    "cookies=driver.find_element(By.CLASS_NAME,\"font-bold.text-center.rounded-full.appearance-none.o-btn.border-3.border-currentColor.flex-shrink-0.is-current\")\n",
    "cookies.click()\n",
    "perpage=Select(driver.find_element(By.XPATH,'//*[@id=\"per-page\"]'))\n",
    "perpage.select_by_value(\"50\")\n",
    "while True:\n",
    "    #try:\n",
    "        for ids in range (1,11):\n",
    "            table=driver.find_element(By.XPATH,\"/html/body/main/div/div[3]/div[2]/div/div/div/div[2]/div[2]/div[\"+str(ids)+\"]/div[1]/div\")\n",
    "            driver.execute_script(\"window.scrollTo(0, 10)\")\n",
    "            b=True\n",
    "            while b:\n",
    "                count+=1\n",
    "                driver.find_element(By.XPATH,\"/html/body/main/div/div[3]/div[2]/div/div/div/div[2]/div[2]/div[\"+str(ids)+\"]/div[2]/label\").click()\n",
    "                if driver.find_element(By.XPATH,\"/html/body/main/div/div[3]/div[2]/div/div/div/div[2]/div[2]/div[\"+str(ids)+\"]/div[2]/div/div[1]/div[4]\").isDisplayed():\n",
    "                    b=False\n",
    "                if count>=10:\n",
    "                    b=False\n",
    "            sectors=driver.find_element(By.XPATH,\"/html/body/main/div/div[3]/div[2]/div/div/div/div[2]/div[2]/div[\"+str(ids)+\"]/div[2]/div/div[1]/div[4]\")\n",
    "            print(sectors.get_attribute('innerText'))\n",
    "            for case in table:\n",
    "                if case.get_attribute('innerText').split('\\n')[0] in marqueEco.keys():\n",
    "                    print('x')\n",
    "        myElem=driver.find_element(By.XPATH,'/html/body/main/div/div[3]/div[2]/div/div/div/div[3]/div/button[2]')\n",
    "        myElem.click()\n",
    "    #except:\n",
    "        #break"
   ]
  },
  {
   "cell_type": "code",
   "execution_count": null,
   "metadata": {},
   "outputs": [],
   "source": [
    "marqueEco"
   ]
  },
  {
   "cell_type": "code",
   "execution_count": null,
   "metadata": {},
   "outputs": [],
   "source": []
  }
 ],
 "metadata": {
  "kernelspec": {
   "display_name": "Python 3",
   "language": "python",
   "name": "python3"
  },
  "language_info": {
   "codemirror_mode": {
    "name": "ipython",
    "version": 3
   },
   "file_extension": ".py",
   "mimetype": "text/x-python",
   "name": "python",
   "nbconvert_exporter": "python",
   "pygments_lexer": "ipython3",
   "version": "3.8.5"
  }
 },
 "nbformat": 4,
 "nbformat_minor": 4
}
