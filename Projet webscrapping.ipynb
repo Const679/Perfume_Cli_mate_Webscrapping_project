{
 "cells": [
  {
   "cell_type": "code",
   "execution_count": 31,
   "metadata": {},
   "outputs": [],
   "source": [
    "from selenium import webdriver\n",
    "from selenium.webdriver.common.keys import Keys\n",
    "from selenium.webdriver.support.ui import WebDriverWait\n",
    "from selenium.webdriver.common.by import By\n",
    "from msedge.selenium_tools import Edge, EdgeOptions\n",
    "from selenium.webdriver.support import expected_conditions as EC\n",
    "from selenium.webdriver.support.ui import Select\n",
    "import re\n",
    "import time\n",
    "import warnings\n",
    "import os\n",
    "import winreg\n",
    "from zipfile import ZipFile\n",
    "warnings.filterwarnings(\"ignore\")"
   ]
  },
  {
   "cell_type": "markdown",
   "metadata": {},
   "source": [
    "### Set options récurrentes"
   ]
  },
  {
   "cell_type": "code",
   "execution_count": 32,
   "metadata": {},
   "outputs": [],
   "source": [
    "options = EdgeOptions()\n",
    "options.use_chromium = True\n",
    "options.add_experimental_option('excludeSwitches', ['enable-logging'])\n",
    "options.set_capability(\"acceptInsecureCerts\", True)\n",
    "#options.add_argument('--headless=new') #hide the browser\n",
    "options.binary_location =r'C:\\Program Files (x86)\\Microsoft\\Edge\\Application\\msedge.exe'"
   ]
  },
  {
   "cell_type": "markdown",
   "metadata": {},
   "source": [
    "### Télécharge la bonne version du driver microsoft Edge"
   ]
  },
  {
   "cell_type": "code",
   "execution_count": 33,
   "metadata": {},
   "outputs": [],
   "source": [
    "#Try to connect if the edgeriver version is 108\n",
    "try : \n",
    "    options.binary_location =r'C:\\Program Files (x86)\\Microsoft\\Edge\\Application\\msedge.exe'\n",
    "    driver = Edge(executable_path =r\".\\driverEdge\\msedgedriver_v122.exe\", options = options)\n",
    "    driver.close()\n",
    "    print('wtf')\n",
    "#If it is another version try to find or download it \n",
    "except Exception as error:\n",
    "    #Go search for the suitable version of edge driver\n",
    "    if 'This version of Microsoft Edge WebDriver only supports Microsoft Edge version 122' in str(error):\n",
    "        error_version =str(error).split('\\n')[1]\n",
    "        version=error_version.split(' ')[4]\n",
    "        #Check if the Edge driver isn't already completed\n",
    "        if not os.path.isfile(r'.\\driverEdge\\msedgedriver_v'+version.split('.')[0]+\".exe\"):\n",
    "            try : \n",
    "                #Go download the edge driver\n",
    "                os.system('start '+'https://msedgedriver.azureedge.net/'+version+'/edgedriver_win64.zip')\n",
    "            except:\n",
    "                #Ask the user to click on the download link\n",
    "                print('Please, with Edge, go to : ' + 'https://msedgedriver.azureedge.net/'+version+'/edgedriver_win64.zip')\n",
    "                \n",
    "            # spécifiant le nom du fichier zip\n",
    "            reg_key = winreg.OpenKey(winreg.HKEY_CURRENT_USER, r\"Software\\Microsoft\\Windows\\CurrentVersion\\Explorer\\Shell Folders\")\n",
    "            downloads_path = winreg.QueryValueEx(reg_key, \"{374DE290-123F-4565-9164-39C4925E467B}\")[0]\n",
    "            winreg.CloseKey(reg_key)\n",
    "            file = downloads_path+\"/edgedriver_win64.zip\"\n",
    "            \n",
    "            #Wait until the file has been downloaded\n",
    "            while not os.path.exists(file):\n",
    "                time.sleep(1)\n",
    "            \n",
    "            # ouvrir le fichier zip en mode lecture\n",
    "            with ZipFile(file, 'r') as zip: \n",
    "                # extraire tous les fichiers vers un autre répertoire\n",
    "                zip.extractall(r'.\\driverEdge')\n",
    "                os.rename(r'.\\driverEdge\\msedgedriver.exe', r'.\\driverEdge\\msedgedriver_v'+version.split('.')[0]+\".exe\")\n",
    "            \n",
    "            os.remove(downloads_path+\"/edgedriver_win64.zip\")\n",
    "                \n",
    "        options.binary_location =r'C:\\Program Files (x86)\\Microsoft\\Edge\\Application\\msedge.exe'"
   ]
  },
  {
   "cell_type": "code",
   "execution_count": 34,
   "metadata": {},
   "outputs": [],
   "source": [
    "def Sephora(options):\n",
    "    dicParfum={}\n",
    "    listeMarque=[]\n",
    "    listeIngredient=[]\n",
    "    driver = Edge(executable_path =r\"C:\\Program Files (x86)\\Microsoft\\Edge\\Application\\msedgedriver.exe\", options = options)\n",
    "    driver.get(\"https://www.sephora.fr/\")\n",
    "    cookies=driver.find_element(By.XPATH,'//*[@id=\"footer_tc_privacy_button_2\"]')\n",
    "    cookies.click()\n",
    "    i=0 #placement sur la page web\n",
    "    key=0 #classement\n",
    "    while key<10:\n",
    "        div=0\n",
    "        driver.get(\"https://www.sephora.fr/parfum-meilleures-ventes/?srule=Sorting%20Rule%20-%20Best%20Sellers&start=0&sz=24\")\n",
    "        id=str(i+1)\n",
    "        try:\n",
    "            pathparfum=\"/html/body/div[2]/div[3]/div[2]/div[3]/div[2]/div[2]/ul/li[\"+id+\"]\"\n",
    "            Parfum=driver.find_element(By.XPATH, pathparfum)\n",
    "        except :\n",
    "            pathparfum=\"/html/body/div[1]/div[3]/div[2]/div[3]/div[2]/div[2]/ul/li[\"+id+\"]\"\n",
    "            Parfum=driver.find_element(By.XPATH, pathparfum)\n",
    "        if Parfum.get_attribute('class')=='grid-tile':\n",
    "            key+=1\n",
    "            marque=driver.find_element(By.XPATH,pathparfum+\"/div/div[3]/div/a/span\").get_attribute('innerText')\n",
    "            #print(marque)\n",
    "            listeMarque.append(marque)\n",
    "            Parfum.click()\n",
    "            #nom du parfum      \n",
    "            nomParfum=driver.find_element(By.CLASS_NAME,'product-name.product-name-bold').get_attribute(\"innerText\")\n",
    "            #print(nomParfum)\n",
    "            dicParfum[key]=nomParfum\n",
    "            #liste des ingredients\n",
    "            ingredient=driver.find_element(By.ID,'tab-ingredients').click()\n",
    "            time.sleep(1)\n",
    "            liste_I=driver.find_element(By.CLASS_NAME,\"ingredients-content\").get_attribute('innerText')\n",
    "            #print('Ingredient : '+ ingredient)\n",
    "            listeIngredient.append(liste_I)\n",
    "            #print(\"\\n\")\n",
    "        i+=1\n",
    "            \n",
    "    driver.close()\n",
    "    return dicParfum,listeMarque,listeIngredient"
   ]
  },
  {
   "cell_type": "code",
   "execution_count": 35,
   "metadata": {
    "scrolled": true
   },
   "outputs": [],
   "source": [
    "dicParfum,listeMarque,listeIngredient=Sephora(options)"
   ]
  },
  {
   "cell_type": "markdown",
   "metadata": {},
   "source": [
    "# Gestion des Ingredients"
   ]
  },
  {
   "cell_type": "raw",
   "metadata": {},
   "source": [
    "Mise en forme des ingrédients"
   ]
  },
  {
   "cell_type": "code",
   "execution_count": 36,
   "metadata": {},
   "outputs": [],
   "source": [
    " def IngredientForme(listeIngredient):\n",
    "    phrase=\"Cette liste d'ingrédients peut faire l'objet de modifications, veuillez consulter l'emballage du produit acheté.\"\n",
    "    Ingredient=[]\n",
    "    for i in listeIngredient:\n",
    "        ouisticram=i.replace(\"\\n\",'')\n",
    "        ouisticram=ouisticram.replace(phrase,'')\n",
    "        ousticram=ouisticram.replace(phrase,'')\n",
    "        if \"INGREDIENTS\" in ouisticram:\n",
    "            champenfeu=ouisticram.split(':')\n",
    "            champenfeu=champenfeu[-1]\n",
    "        else:\n",
    "            champenfeu=ouisticram\n",
    "        if \"●\" in champenfeu :\n",
    "            simiabraz=champenfeu.split(\"●\")\n",
    "        elif \" | \" in champenfeu:\n",
    "            simiabraz=champenfeu.split(\" | \")\n",
    "        elif ' ,' in champenfeu:\n",
    "            simiabraz=champenfeu.split(\" ,\")\n",
    "        elif ',' in champenfeu:\n",
    "            simiabraz=champenfeu.split(\",\")\n",
    "        elif \" • \" in champenfeu:\n",
    "            simiabraz=champenfeu.split(\" • \")\n",
    "        else:\n",
    "            print(simiabraz)\n",
    "        Ingredient.append(simiabraz)\n",
    "\n",
    "\n",
    "    Ingredients=[]\n",
    "    for i in Ingredient:\n",
    "        for j in i :\n",
    "            if j.startswith('#'):\n",
    "                ij=j.split(' ')\n",
    "                j=ij[1]\n",
    "            if j.startswith(' '):\n",
    "                j=j[1:]\n",
    "            if j.endswith(' '):\n",
    "                j=j[:-1]\n",
    "            Ingredients.append(j)\n",
    "    \n",
    "    setIngredient=set(Ingredients)\n",
    "    return setIngredient"
   ]
  },
  {
   "cell_type": "code",
   "execution_count": 38,
   "metadata": {},
   "outputs": [],
   "source": [
    "setIngredient=IngredientForme(listeIngredient)"
   ]
  },
  {
   "cell_type": "markdown",
   "metadata": {},
   "source": [
    "Recherche des ingrédients et de leur potentiel mise en garde"
   ]
  },
  {
   "cell_type": "code",
   "execution_count": null,
   "metadata": {},
   "outputs": [],
   "source": []
  },
  {
   "cell_type": "code",
   "execution_count": 39,
   "metadata": {},
   "outputs": [],
   "source": [
    "def incibeauty(setIngredient,options):\n",
    "    descIng={}\n",
    "    Allergene=[]\n",
    "    endo=[]\n",
    "    driver = Edge(executable_path =r\"C:\\Program Files (x86)\\Microsoft\\Edge\\Application\\msedgedriver.exe\", options = options)\n",
    "    driver.get(\"https://incibeauty.com/ingredients\")\n",
    "    cookies=driver.find_element(By.XPATH,\"/html/body/div[6]/div[1]/div/div[2]/button\")\n",
    "    cookies.click()\n",
    "    for i in setIngredient:\n",
    "        driver.get(\"https://incibeauty.com/ingredients\")\n",
    "        search=driver.find_element(By.ID,'searchInci')\n",
    "        search.click()\n",
    "        search.clear()\n",
    "        search.send_keys(i)\n",
    "        count=0\n",
    "        url=False\n",
    "        b=True\n",
    "        while b:\n",
    "            count+=1\n",
    "            search.send_keys(Keys.ENTER)\n",
    "            if driver.current_url!=\"https://incibeauty.com/ingredients\":\n",
    "                b=False\n",
    "                url=True\n",
    "            if count>=10:\n",
    "                b=False\n",
    "        if url :\n",
    "            listeInfo= WebDriverWait(driver, 10).until(EC.visibility_of_element_located((By.XPATH,'/html/body/section[1]/div/div/div/ul')))\n",
    "            if 'Allergène' in listeInfo.get_attribute('innerText'):\n",
    "                Allergene.append(i)\n",
    "            if 'Perturbateur endocrinien' in listeInfo.get_attribute('innerText'):\n",
    "                endo.append(i)\n",
    "            try:\n",
    "                aSavoir=driver.find_element(By.XPATH,'/html/body/section[1]/div/div/div/div[2]/div')\n",
    "                descIng[i]=aSavoir.get_attribute('innerText')\n",
    "            except:\n",
    "                descIng[i]=\"Pas d'information supplémentaire\"\n",
    "\n",
    "    driver.close()\n",
    "    return descIng,Allergene,endo"
   ]
  },
  {
   "cell_type": "code",
   "execution_count": 40,
   "metadata": {},
   "outputs": [],
   "source": [
    "descIng,Allergene,endo=incibeauty(setIngredient,options)"
   ]
  },
  {
   "cell_type": "markdown",
   "metadata": {},
   "source": [
    "# Gestion des engagements de marques"
   ]
  },
  {
   "cell_type": "code",
   "execution_count": null,
   "metadata": {},
   "outputs": [],
   "source": []
  },
  {
   "cell_type": "code",
   "execution_count": 46,
   "metadata": {},
   "outputs": [],
   "source": [
    "def engagement(listeMarque,options):\n",
    "    marqueEco={}\n",
    "    driver = Edge(executable_path =r\"C:\\Program Files (x86)\\Microsoft\\Edge\\Application\\msedgedriver.exe\", options = options)\n",
    "    driver.get(\"https://sciencebasedtargets.org/companies-taking-action#dashboard\")\n",
    "    time.sleep(5)\n",
    "    cookies=driver.find_element(By.CLASS_NAME,\"font-bold.text-center.rounded-full.appearance-none.o-btn.border-3.border-currentColor.flex-shrink-0.is-current\")\n",
    "    cookies.click()\n",
    "    #recherche la marque\n",
    "    inputs=driver.find_element(By.XPATH,\"/html/body/main/div/div[3]/div[2]/div/div/div/div[1]/div/div[2]/label/input\")\n",
    "                                         #/html/body/main/div/div[3]/div[2]/div/div/div/div[1]/div/div[2]/label/input\n",
    "    for i in listeMarque:\n",
    "        inputs.send_keys(i)\n",
    "        time.sleep(5)\n",
    "        try :\n",
    "            #click sur view more pour avoir accès à la target\n",
    "            driver.find_element(By.XPATH,\"/html/body/main/div/div[3]/div[2]/div/div/div/div[2]/div[2]/div/div[2]/label/span/span\").click()\n",
    "            target=driver.find_element(By.XPATH,\"/html/body/main/div/div[3]/div[2]/div/div/div/div[2]/div[2]/div/div[2]/div/div[3]/div[2]\").get_attribute(\"innerText\")\n",
    "            marqueEco[i]=target\n",
    "        except:\n",
    "            marqueEco[i]=\"Sans engagement\"\n",
    "        inputs.clear()\n",
    "    driver.close()\n",
    "    return marqueEco"
   ]
  },
  {
   "cell_type": "code",
   "execution_count": 47,
   "metadata": {},
   "outputs": [],
   "source": [
    "marqueEco=engagement(listeMarque,options)"
   ]
  },
  {
   "cell_type": "code",
   "execution_count": null,
   "metadata": {},
   "outputs": [],
   "source": []
  }
 ],
 "metadata": {
  "kernelspec": {
   "display_name": "Python 3",
   "language": "python",
   "name": "python3"
  },
  "language_info": {
   "codemirror_mode": {
    "name": "ipython",
    "version": 3
   },
   "file_extension": ".py",
   "mimetype": "text/x-python",
   "name": "python",
   "nbconvert_exporter": "python",
   "pygments_lexer": "ipython3",
   "version": "3.8.5"
  }
 },
 "nbformat": 4,
 "nbformat_minor": 4
}
