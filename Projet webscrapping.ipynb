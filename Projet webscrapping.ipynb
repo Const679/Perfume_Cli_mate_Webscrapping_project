{
 "cells": [
  {
   "cell_type": "code",
   "execution_count": 7,
   "metadata": {},
   "outputs": [],
   "source": [
    "from selenium import webdriver\n",
    "from selenium.webdriver.common.keys import Keys\n",
    "from selenium.webdriver.support.ui import WebDriverWait\n",
    "from selenium.webdriver.common.by import By\n",
    "from msedge.selenium_tools import Edge, EdgeOptions\n",
    "from selenium.webdriver.support import expected_conditions as EC\n",
    "from selenium.webdriver.support.ui import Select\n",
    "import re\n",
    "import time"
   ]
  },
  {
   "cell_type": "code",
   "execution_count": 9,
   "metadata": {},
   "outputs": [],
   "source": [
    "options = EdgeOptions()\n",
    "options.use_chromium = True\n",
    "options.add_experimental_option('excludeSwitches', ['enable-logging'])\n",
    "options.set_capability(\"acceptInsecureCerts\", True)\n",
    "#Try to connect if the edgeriver version is 108\n",
    "options.binary_location =r'C:\\Program Files (x86)\\Microsoft\\Edge\\Application\\msedge.exe'"
   ]
  },
  {
   "cell_type": "code",
   "execution_count": 3,
   "metadata": {},
   "outputs": [],
   "source": [
    "dicParfum={}\n",
    "listeMarque=[]\n",
    "listeIngredient=[]"
   ]
  },
  {
   "cell_type": "code",
   "execution_count": 4,
   "metadata": {},
   "outputs": [
    {
     "name": "stderr",
     "output_type": "stream",
     "text": [
      "<ipython-input-4-47e148e7b33a>:1: DeprecationWarning: Selenium Tools for Microsoft Edge is deprecated. Please upgrade to Selenium 4 which has built-in support for Microsoft Edge (Chromium): https://docs.microsoft.com/en-us/microsoft-edge/webdriver-chromium/#upgrading-from-selenium-3\n",
      "  driver = Edge(executable_path =r\"C:\\Program Files (x86)\\Microsoft\\Edge\\Application\\msedgedriver.exe\", options = options)\n"
     ]
    }
   ],
   "source": [
    "def Sephora(options):\n",
    "    driver = Edge(executable_path =r\"C:\\Program Files (x86)\\Microsoft\\Edge\\Application\\msedgedriver.exe\", options = options)\n",
    "    driver.get(\"https://www.sephora.fr/\")\n",
    "    cookies=driver.find_element(By.XPATH,'//*[@id=\"footer_tc_privacy_button_2\"]')\n",
    "    cookies.click()\n",
    "    for i in range (0,10):\n",
    "        div=0\n",
    "        driver.get(\"https://www.sephora.fr/parfum-meilleures-ventes/?srule=Sorting%20Rule%20-%20Best%20Sellers&start=0&sz=24\")\n",
    "        id=str(i+1)\n",
    "        #print(\"top : \"+ id )\n",
    "        try:\n",
    "            pathparfum=\"/html/body/div[2]/div[3]/div[2]/div[3]/div[2]/div[2]/ul/li[\"+id+\"]\"\n",
    "            #//*[@id=\"search-result-items\"]/li[1]/div\n",
    "            Parfum=driver.find_element(By.XPATH, pathparfum)\n",
    "        except :\n",
    "            pathparfum=\"/html/body/div[1]/div[3]/div[2]/div[3]/div[2]/div[2]/ul/li[\"+id+\"]\"\n",
    "            Parfum=driver.find_element(By.XPATH, pathparfum)\n",
    "        if Parfum.get_attribute('class')=='grid-tile':\n",
    "            marque=driver.find_element(By.XPATH,pathparfum+\"/div/div[3]/div/a/span\").get_attribute('innerText')\n",
    "            #print(marque)\n",
    "            listeMarque.append(marque)\n",
    "            Parfum.click()\n",
    "            #nom du parfum      \n",
    "            nomParfum=driver.find_element(By.CLASS_NAME,'product-name.product-name-bold').get_attribute(\"innerText\")\n",
    "            #print(nomParfum)\n",
    "            dicParfum[i]=nomParfum\n",
    "            #liste des ingredients\n",
    "            ingredient=driver.find_element(By.CLASS_NAME,'ingredients-content.tabs-panel').get_attribute('innerText')\n",
    "            #print('Ingredient : '+ ingredient)\n",
    "            listeIngredient.append(ingredient)\n",
    "            #print(\"\\n\")\n",
    "    driver.close()\n",
    "        "
   ]
  },
  {
   "cell_type": "markdown",
   "metadata": {},
   "source": [
    "# Gestion des Ingredients"
   ]
  },
  {
   "cell_type": "raw",
   "metadata": {},
   "source": [
    "Mise en forme des ingrédients"
   ]
  },
  {
   "cell_type": "code",
   "execution_count": 6,
   "metadata": {},
   "outputs": [],
   "source": [
    " def IngrefientForme():\n",
    "    phrase=\"Cette liste d'ingrédients peut faire l'objet de modifications, veuillez consulter l'emballage du produit acheté.\"\n",
    "    Ingredient=[]\n",
    "    for i in listeIngredient:\n",
    "        ouisticram=i.replace(\"\\n\",'')\n",
    "        ouisticram=ouisticram.replace(phrase,'')\n",
    "        ousticram=ouisticram.replace(phrase,'')\n",
    "        if \"INGREDIENTS\" in ouisticram:\n",
    "            champenfeu=ouisticram.split(':')\n",
    "            champenfeu=champenfeu[-1]\n",
    "        else:\n",
    "            champenfeu=ouisticram\n",
    "        if \"●\" in champenfeu :\n",
    "            simiabraz=champenfeu.split(\"●\")\n",
    "        elif \" | \" in champenfeu:\n",
    "            simiabraz=champenfeu.split(\" | \")\n",
    "        elif ' ,' in champenfeu:\n",
    "            simiabraz=champenfeu.split(\" ,\")\n",
    "        elif ',' in champenfeu:\n",
    "            simiabraz=champenfeu.split(\",\")\n",
    "        elif \" • \" in champenfeu:\n",
    "            simiabraz=champenfeu.split(\" • \")\n",
    "        else:\n",
    "            print(simiabraz)\n",
    "        Ingredient.append(simiabraz)\n",
    "\n",
    "\n",
    "    Ingredients=[]\n",
    "    for i in Ingredient:\n",
    "        for j in i :\n",
    "            if j.startswith('#'):\n",
    "                ij=j.split(' ')\n",
    "                j=ij[1]\n",
    "            if j.startswith(' '):\n",
    "                j=j[1:]\n",
    "            if j.endswith(' '):\n",
    "                j=j[:-1]\n",
    "            Ingredients.append(j)\n"
   ]
  },
  {
   "cell_type": "markdown",
   "metadata": {},
   "source": [
    "Recherche des ingrédients et de leur potentiel mise en garde"
   ]
  },
  {
   "cell_type": "code",
   "execution_count": 8,
   "metadata": {},
   "outputs": [],
   "source": [
    "setIngredient=set(Ingredients)"
   ]
  },
  {
   "cell_type": "code",
   "execution_count": 9,
   "metadata": {},
   "outputs": [],
   "source": [
    "descIng={}\n",
    "Allergene=[]\n",
    "endo=[]"
   ]
  },
  {
   "cell_type": "code",
   "execution_count": 10,
   "metadata": {},
   "outputs": [
    {
     "name": "stderr",
     "output_type": "stream",
     "text": [
      "<timed exec>:1: DeprecationWarning: Selenium Tools for Microsoft Edge is deprecated. Please upgrade to Selenium 4 which has built-in support for Microsoft Edge (Chromium): https://docs.microsoft.com/en-us/microsoft-edge/webdriver-chromium/#upgrading-from-selenium-3\n"
     ]
    },
    {
     "name": "stdout",
     "output_type": "stream",
     "text": [
      "Wall time: 2min 34s\n"
     ]
    }
   ],
   "source": [
    "def incibeauty(options):\n",
    "    driver = Edge(executable_path =r\"C:\\Program Files (x86)\\Microsoft\\Edge\\Application\\msedgedriver.exe\", options = options)\n",
    "    driver.get(\"https://incibeauty.com/ingredients\")\n",
    "    cookies=driver.find_element(By.XPATH,\"/html/body/div[6]/div[1]/div/div[2]/button\")\n",
    "    cookies.click()\n",
    "    for i in setIngredient:\n",
    "        driver.get(\"https://incibeauty.com/ingredients\")\n",
    "        search=driver.find_element(By.ID,'searchInci')\n",
    "        search.click()\n",
    "        search.clear()\n",
    "        search.send_keys(i)\n",
    "        count=0\n",
    "        url=False\n",
    "        b=True\n",
    "        while b:\n",
    "            count+=1\n",
    "            search.send_keys(Keys.ENTER)\n",
    "            if driver.current_url!=\"https://incibeauty.com/ingredients\":\n",
    "                b=False\n",
    "                url=True\n",
    "            if count>=10:\n",
    "                b=False\n",
    "        if url :\n",
    "            listeInfo= WebDriverWait(driver, 10).until(EC.visibility_of_element_located((By.XPATH,'/html/body/section[1]/div/div/div/ul')))\n",
    "            if 'Allergène' in listeInfo.get_attribute('innerText'):\n",
    "                Allergene.append(i)\n",
    "            if 'Perturbateur endocrinien' in listeInfo.get_attribute('innerText'):\n",
    "                endo.append(i)\n",
    "            try:\n",
    "                aSavoir=driver.find_element(By.XPATH,'/html/body/section[1]/div/div/div/div[2]/div')\n",
    "                descIng[i]=aSavoir.get_attribute('innerText')\n",
    "            except:\n",
    "                descIng[i]=\"Pas d'information supplémentaire\"\n",
    "\n",
    "    driver.close()"
   ]
  },
  {
   "cell_type": "markdown",
   "metadata": {},
   "source": [
    "# Gestion des engagements de marques"
   ]
  },
  {
   "cell_type": "code",
   "execution_count": 14,
   "metadata": {},
   "outputs": [
    {
     "data": {
      "text/plain": [
       "{'GIVENCHY': 'Sans engagement',\n",
       " 'DIOR': 'Sans engagement',\n",
       " 'CHANEL': 'Sans engagement',\n",
       " 'YVES SAINT LAURENT': 'Sans engagement',\n",
       " 'PACO RABANNE': 'Sans engagement',\n",
       " 'PRADA': 'Sans engagement'}"
      ]
     },
     "execution_count": 14,
     "metadata": {},
     "output_type": "execute_result"
    }
   ],
   "source": [
    "marqueEco={listeMarque[i]: 'Sans engagement' for i in range(len(listeMarque))}\n",
    "marqueEco"
   ]
  },
  {
   "cell_type": "code",
   "execution_count": 15,
   "metadata": {},
   "outputs": [
    {
     "name": "stderr",
     "output_type": "stream",
     "text": [
      "<timed exec>:1: DeprecationWarning: Selenium Tools for Microsoft Edge is deprecated. Please upgrade to Selenium 4 which has built-in support for Microsoft Edge (Chromium): https://docs.microsoft.com/en-us/microsoft-edge/webdriver-chromium/#upgrading-from-selenium-3\n"
     ]
    },
    {
     "name": "stdout",
     "output_type": "stream",
     "text": [
      "beurk\n",
      "beurk\n",
      "beurk\n",
      "Wall time: 42 s\n"
     ]
    }
   ],
   "source": [
    "def engagement(options):\n",
    "    driver = Edge(executable_path =r\"C:\\Program Files (x86)\\Microsoft\\Edge\\Application\\msedgedriver.exe\", options = options)\n",
    "    driver.get(\"https://sciencebasedtargets.org/companies-taking-action#dashboard\")\n",
    "    time.sleep(5)\n",
    "    cookies=driver.find_element(By.CLASS_NAME,\"font-bold.text-center.rounded-full.appearance-none.o-btn.border-3.border-currentColor.flex-shrink-0.is-current\")\n",
    "    cookies.click()\n",
    "    perpage=Select(driver.find_element(By.XPATH,'//*[@id=\"per-page\"]'))\n",
    "    #recherche la marque\n",
    "    inputs=driver.find_element(By.XPATH,\"/html/body/main/div/div[3]/div[2]/div/div/div/div[1]/div/div[2]/label/input\")\n",
    "    for i in marqueEco.keys():\n",
    "        inputs.send_keys(i)\n",
    "        time.sleep(5)\n",
    "        try :\n",
    "            #click sur view more pour avoir accès à la target\n",
    "            driver.find_element(By.XPATH,\"/html/body/main/div/div[3]/div[2]/div/div/div/div[2]/div[2]/div/div[2]/label/span/span\").click()\n",
    "            target=driver.find_element(By.XPATH,\"/html/body/main/div/div[3]/div[2]/div/div/div/div[2]/div[2]/div/div[2]/div/div[3]/div[2]\").get_attribute(\"innerText\")\n",
    "            marqueEco[i]=target\n",
    "        except:\n",
    "            marqueEco[i]=\"Sans engagement\"\n",
    "        inputs.clear()\n",
    "    driver.close()"
   ]
  }
 ],
 "metadata": {
  "kernelspec": {
   "display_name": "Python 3",
   "language": "python",
   "name": "python3"
  }
 },
 "nbformat": 4,
 "nbformat_minor": 4
}
