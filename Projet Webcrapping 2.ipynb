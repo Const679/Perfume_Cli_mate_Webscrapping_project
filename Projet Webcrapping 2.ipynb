{
 "cells": [
  {
   "cell_type": "code",
   "execution_count": 1,
   "metadata": {},
   "outputs": [],
   "source": [
    "import pandas as pd\n",
    "from bs4 import BeautifulSoup\n",
    "import requests\n",
    "import json\n",
    "from selenium import webdriver\n",
    "from selenium.webdriver.common.keys import Keys\n",
    "from selenium.webdriver.support.ui import WebDriverWait\n",
    "from selenium.webdriver.common.by import By\n",
    "from msedge.selenium_tools import Edge, EdgeOptions\n",
    "from selenium.webdriver.support import expected_conditions as EC\n",
    "from selenium.webdriver.support.ui import Select\n",
    "import re\n",
    "import time\n",
    "import warnings\n",
    "warnings.filterwarnings(\"ignore\")"
   ]
  },
  {
   "cell_type": "code",
   "execution_count": 2,
   "metadata": {},
   "outputs": [],
   "source": [
    "options = EdgeOptions()\n",
    "options.use_chromium = True\n",
    "options.add_experimental_option('excludeSwitches', ['enable-logging'])\n",
    "options.set_capability(\"acceptInsecureCerts\", True)\n",
    "options.add_argument('headless') #hide the browser\n",
    "#Try to connect if the edgeriver version is 108\n",
    "options.binary_location =r'C:\\Program Files (x86)\\Microsoft\\Edge\\Application\\msedge.exe'"
   ]
  },
  {
   "cell_type": "markdown",
   "metadata": {},
   "source": [
    "# Parfum personalisé"
   ]
  },
  {
   "cell_type": "code",
   "execution_count": 3,
   "metadata": {},
   "outputs": [],
   "source": [
    "def Engagement(marque,options):\n",
    "    driver = Edge(executable_path =r\"C:\\Program Files (x86)\\Microsoft\\Edge\\Application\\msedgedriver.exe\", options = options)\n",
    "    driver.get(\"https://sciencebasedtargets.org/companies-taking-action#dashboard\")\n",
    "    time.sleep(5)\n",
    "    cookies=driver.find_element(By.CLASS_NAME,\"font-bold.text-center.rounded-full.appearance-none.o-btn.border-3.border-currentColor.flex-shrink-0.is-current\")\n",
    "    cookies.click()\n",
    "    #recherche la marque\n",
    "    inputs=driver.find_element(By.XPATH,\"/html/body/main/div/div[3]/div[2]/div/div/div/div[1]/div/div[2]/label/input\")\n",
    "    inputs.send_keys(marque)\n",
    "    time.sleep(5)\n",
    "    try :\n",
    "        #click sur view more pour avoir accès à la target\n",
    "        driver.find_element(By.XPATH,\"/html/body/main/div/div[3]/div[2]/div/div/div/div[2]/div[2]/div/div[2]/label/span/span\").click()\n",
    "        target=driver.find_element(By.XPATH,\"/html/body/main/div/div[3]/div[2]/div/div/div/div[2]/div[2]/div/div[2]/div/div[3]/div[2]\").get_attribute(\"innerText\")\n",
    "    except:\n",
    "        target=\"Sans engagement\"\n",
    "    driver.close()\n",
    "    return target"
   ]
  },
  {
   "cell_type": "code",
   "execution_count": 4,
   "metadata": {},
   "outputs": [],
   "source": [
    "def parfumPerso (nomP,options):\n",
    "    nomP=nomP.replace(' ','+')\n",
    "    driver = Edge(executable_path =r\"C:\\Program Files (x86)\\Microsoft\\Edge\\Application\\msedgedriver.exe\", options = options)\n",
    "    driver.get(\"https://www.sephora.fr/on/demandware.store/Sites-Sephora_FR-Site/fr_FR/Search-AlgoliaSearch?q=\"+nomP+\"&categories=Eau+de+parfum%7CC297810\")\n",
    "    cookies=driver.find_element(By.XPATH,'//*[@id=\"footer_tc_privacy_button_2\"]')\n",
    "    cookies.click()\n",
    "    time.sleep(2)\n",
    "    driver.find_element(By.XPATH,\"/html/body/div[1]/div[3]/div[2]/div[3]/div[2]/div[2]/div/div/div/div/ol/li[1]/div/div[2]/a\").click()\n",
    "    lamarque=driver.find_element(By.XPATH,\"/html/body/div[1]/div[3]/div[2]/div[2]/div[1]/div[2]/div[2]/div[1]/div[1]/a/span\").get_attribute('innerText')\n",
    "    ingredient=driver.find_element(By.ID,'tab-ingredients').click()\n",
    "    time.sleep(1)\n",
    "    lesingredients=driver.find_element(By.CLASS_NAME,\"ingredients-content\").get_attribute('innerText')\n",
    "    lengagement=Engagement(lamarque,options)\n",
    "    return lamarque,lesingredients,lengagement"
   ]
  },
  {
   "cell_type": "code",
   "execution_count": 5,
   "metadata": {},
   "outputs": [
    {
     "data": {
      "text/plain": [
       "('HUGO BOSS',\n",
       " \"\\nALCOHOL DENAT., PARFUM/FRAGRANCE, PROPYLENE GLYCOL, AQUA/WATER/EAU, ETHYLHEXYL SALICYLATE, LIMONENE, LINALOOL, COUMARIN, HYDROXYCITRONELLAL, BENZYL SALICYLATE, BUTYL METHOXYDIBENZOYLMETHANE, ALPHA-ISOMETHYL IONONE, GERANIOL, CITRAL, ALCOHOL TRIS(TETRAMETHYLHYDROXYPIPERIDINOL) CITRATE, ISOEUGENOL, CITRONELLOL, FARNESOL, BENZYL BENZOATE, CINNAMAL, BENZYL ALCOHOL, RED 33 (CI 17200), YELLOW 5 (CI 19140), RED 4 (CI 14700).Cette liste d'ingrédients peut faire l'objet de modifications, veuillez consulter l'emballage du produit acheté.\\n\",\n",
       " 'Hugo Boss AG commits to reduce absolute scope 1 and 2 GHG emissions 51% by 2030 from a 2018 base year. Hugo Boss AG also commits to reduce absolute scope 3 GHG emissions from purchased goods and services as well as upstream and downstream transportation 30% by 2030 from a 2018 base year.')"
      ]
     },
     "execution_count": 5,
     "metadata": {},
     "output_type": "execute_result"
    }
   ],
   "source": [
    "parfumPerso('Hugo Boss',options)"
   ]
  },
  {
   "cell_type": "code",
   "execution_count": null,
   "metadata": {},
   "outputs": [],
   "source": []
  }
 ],
 "metadata": {
  "kernelspec": {
   "display_name": "Python 3",
   "language": "python",
   "name": "python3"
  },
  "language_info": {
   "codemirror_mode": {
    "name": "ipython",
    "version": 3
   },
   "file_extension": ".py",
   "mimetype": "text/x-python",
   "name": "python",
   "nbconvert_exporter": "python",
   "pygments_lexer": "ipython3",
   "version": "3.8.5"
  }
 },
 "nbformat": 4,
 "nbformat_minor": 4
}
